{
 "metadata": {
  "celltoolbar": "Raw Cell Format",
  "name": "",
  "signature": "sha256:7b297278f805a25a16fb958e1c0a9a544156e3cc256d759832f6a4a5cb8646a1"
 },
 "nbformat": 3,
 "nbformat_minor": 0,
 "worksheets": [
  {
   "cells": [
    {
     "cell_type": "markdown",
     "metadata": {},
     "source": [
      "# Python Pandas Cookbook\n",
      "An exploration of using Python Pandas for data analysis, based on the excellent series of Alfred Essa."
     ]
    },
    {
     "cell_type": "markdown",
     "metadata": {},
     "source": [
      "## The Series object\n",
      "One-dimensional ndarray with axis labels (including time series)."
     ]
    },
    {
     "cell_type": "markdown",
     "metadata": {},
     "source": [
      "### Setup"
     ]
    },
    {
     "cell_type": "code",
     "collapsed": false,
     "input": [
      "import pandas as pd\n",
      "import numpy as np"
     ],
     "language": "python",
     "metadata": {},
     "outputs": [],
     "prompt_number": 2
    },
    {
     "cell_type": "markdown",
     "metadata": {},
     "source": [
      "#### Simple Series Object"
     ]
    },
    {
     "cell_type": "code",
     "collapsed": false,
     "input": [
      "# Data as a list of integers.\n",
      "data = [101, 4, 23, 8, 27, 84, 5, -3]\n",
      "s1 = pd.Series(data)"
     ],
     "language": "python",
     "metadata": {},
     "outputs": [],
     "prompt_number": 4
    },
    {
     "cell_type": "code",
     "collapsed": false,
     "input": [
      "# The index, by default, is a series of integers starting at zero.\n",
      "s1"
     ],
     "language": "python",
     "metadata": {},
     "outputs": [
      {
       "metadata": {},
       "output_type": "pyout",
       "text": [
        "0    101\n",
        "1      4\n",
        "2     23\n",
        "3      8\n",
        "4     27\n",
        "5     84\n",
        "6      5\n",
        "7     -3\n",
        "dtype: int64"
       ]
      }
     ],
     "prompt_number": 5
    },
    {
     "cell_type": "markdown",
     "metadata": {},
     "source": [
      "#### Value retrieval / setting"
     ]
    },
    {
     "cell_type": "code",
     "collapsed": false,
     "input": [
      "# The values of the numpy.ndarray.\n",
      "s1.values"
     ],
     "language": "python",
     "metadata": {},
     "outputs": [
      {
       "metadata": {},
       "output_type": "pyout",
       "text": [
        "array([101,   4,  23,   8,  27,  84,   5,  -3], dtype=int64)"
       ]
      }
     ],
     "prompt_number": 6
    },
    {
     "cell_type": "code",
     "collapsed": false,
     "input": [
      "# The indices of the numpy.ndarray.\n",
      "s1.index"
     ],
     "language": "python",
     "metadata": {},
     "outputs": [
      {
       "metadata": {},
       "output_type": "pyout",
       "text": [
        "Int64Index([0, 1, 2, 3, 4, 5, 6, 7], dtype='int64')"
       ]
      }
     ],
     "prompt_number": 7
    },
    {
     "cell_type": "code",
     "collapsed": false,
     "input": [
      "# Index based value retrieval.\n",
      "s1[1]"
     ],
     "language": "python",
     "metadata": {},
     "outputs": [
      {
       "metadata": {},
       "output_type": "pyout",
       "text": [
        "4"
       ]
      }
     ],
     "prompt_number": 8
    },
    {
     "cell_type": "code",
     "collapsed": false,
     "input": [
      "# Set value based on index\n",
      "s1[2] = 404\n",
      "s1"
     ],
     "language": "python",
     "metadata": {},
     "outputs": [
      {
       "metadata": {},
       "output_type": "pyout",
       "text": [
        "0    101\n",
        "1      4\n",
        "2    404\n",
        "3      8\n",
        "4     27\n",
        "5     84\n",
        "6      5\n",
        "7     -3\n",
        "dtype: int64"
       ]
      }
     ],
     "prompt_number": 9
    },
    {
     "cell_type": "code",
     "collapsed": false,
     "input": [
      "# Perform operations.\n",
      "s1.mean()"
     ],
     "language": "python",
     "metadata": {},
     "outputs": [
      {
       "metadata": {},
       "output_type": "pyout",
       "text": [
        "78.75"
       ]
      }
     ],
     "prompt_number": 10
    },
    {
     "cell_type": "code",
     "collapsed": false,
     "input": [
      "s1.cumsum()"
     ],
     "language": "python",
     "metadata": {},
     "outputs": [
      {
       "metadata": {},
       "output_type": "pyout",
       "text": [
        "0    101\n",
        "1    105\n",
        "2    509\n",
        "3    517\n",
        "4    544\n",
        "5    628\n",
        "6    633\n",
        "7    630\n",
        "dtype: int64"
       ]
      }
     ],
     "prompt_number": 11
    },
    {
     "cell_type": "markdown",
     "metadata": {},
     "source": [
      "#### Custom indices"
     ]
    },
    {
     "cell_type": "code",
     "collapsed": false,
     "input": [
      "# Create a custom index.\n",
      "index = ['A', 'B', 'C', 'D', 'E', 'F', 'G', 'H']\n",
      "s2 = pd.Series(data, index)\n",
      "s2"
     ],
     "language": "python",
     "metadata": {},
     "outputs": [
      {
       "metadata": {},
       "output_type": "pyout",
       "text": [
        "A    101\n",
        "B      4\n",
        "C     23\n",
        "D      8\n",
        "E     27\n",
        "F     84\n",
        "G      5\n",
        "H     -3\n",
        "dtype: int64"
       ]
      }
     ],
     "prompt_number": 12
    },
    {
     "cell_type": "code",
     "collapsed": false,
     "input": [
      "# Meaningful labels to the values and/or the index.\n",
      "s2.name = 'Number of parked cars'\n",
      "s2.index.name = 'Block'\n",
      "s2"
     ],
     "language": "python",
     "metadata": {},
     "outputs": [
      {
       "metadata": {},
       "output_type": "pyout",
       "text": [
        "Block\n",
        "A        101\n",
        "B          4\n",
        "C         23\n",
        "D          8\n",
        "E         27\n",
        "F         84\n",
        "G          5\n",
        "H         -3\n",
        "Name: Number of parked cars, dtype: int64"
       ]
      }
     ],
     "prompt_number": 13
    },
    {
     "cell_type": "markdown",
     "metadata": {},
     "source": [
      "#### Homogeneous data"
     ]
    },
    {
     "cell_type": "code",
     "collapsed": false,
     "input": [
      "# Data type becomes float due to the 3.1 value.\n",
      "data2 = [1, 2, 3.1, 4]\n",
      "s3 = pd.Series(data2)\n",
      "s3"
     ],
     "language": "python",
     "metadata": {},
     "outputs": [
      {
       "metadata": {},
       "output_type": "pyout",
       "text": [
        "0    1.0\n",
        "1    2.0\n",
        "2    3.1\n",
        "3    4.0\n",
        "dtype: float64"
       ]
      }
     ],
     "prompt_number": 14
    },
    {
     "cell_type": "markdown",
     "metadata": {},
     "source": [
      "#### Series from a dictionary"
     ]
    },
    {
     "cell_type": "code",
     "collapsed": false,
     "input": [
      "# Series from dictionary is (of course) not ordered. Keys are used for the index.\n",
      "d = {'one': 1, 'two': 2, 'three': 3, 'four': 4, 'five': 5}\n",
      "s4 = pd.Series(d)\n",
      "s4"
     ],
     "language": "python",
     "metadata": {},
     "outputs": [
      {
       "metadata": {},
       "output_type": "pyout",
       "text": [
        "five     5\n",
        "four     4\n",
        "one      1\n",
        "three    3\n",
        "two      2\n",
        "dtype: int64"
       ]
      }
     ],
     "prompt_number": 15
    },
    {
     "cell_type": "markdown",
     "metadata": {},
     "source": [
      "#### ndarray like operations"
     ]
    },
    {
     "cell_type": "code",
     "collapsed": false,
     "input": [
      "# Vector operations (scalar multiplication)\n",
      "s4 * 3"
     ],
     "language": "python",
     "metadata": {},
     "outputs": [
      {
       "metadata": {},
       "output_type": "pyout",
       "text": [
        "five     15\n",
        "four     12\n",
        "one       3\n",
        "three     9\n",
        "two       6\n",
        "dtype: int64"
       ]
      }
     ],
     "prompt_number": 16
    },
    {
     "cell_type": "code",
     "collapsed": false,
     "input": [
      "# Numpy operations\n",
      "np.log(s4)"
     ],
     "language": "python",
     "metadata": {},
     "outputs": [
      {
       "metadata": {},
       "output_type": "pyout",
       "text": [
        "five     1.609438\n",
        "four     1.386294\n",
        "one      0.000000\n",
        "three    1.098612\n",
        "two      0.693147\n",
        "dtype: float64"
       ]
      }
     ],
     "prompt_number": 17
    },
    {
     "cell_type": "markdown",
     "metadata": {},
     "source": [
      "#### Slicing"
     ]
    },
    {
     "cell_type": "code",
     "collapsed": false,
     "input": [
      "# Slicing based on index\n",
      "s4[1:3]"
     ],
     "language": "python",
     "metadata": {},
     "outputs": [
      {
       "metadata": {},
       "output_type": "pyout",
       "text": [
        "four    4\n",
        "one     1\n",
        "dtype: int64"
       ]
      }
     ],
     "prompt_number": 18
    },
    {
     "cell_type": "code",
     "collapsed": false,
     "input": [
      "# Slicing based on labels\n",
      "s4['four':'three']"
     ],
     "language": "python",
     "metadata": {},
     "outputs": [
      {
       "metadata": {},
       "output_type": "pyout",
       "text": [
        "four     4\n",
        "one      1\n",
        "three    3\n",
        "dtype: int64"
       ]
      }
     ],
     "prompt_number": 19
    },
    {
     "cell_type": "markdown",
     "metadata": {},
     "source": [
      "#### Enumeration"
     ]
    },
    {
     "cell_type": "code",
     "collapsed": false,
     "input": [
      "# looping over collection\n",
      "for i, v in enumerate(s4):\n",
      "    print i, v"
     ],
     "language": "python",
     "metadata": {},
     "outputs": [
      {
       "output_type": "stream",
       "stream": "0 5\n1 4\n2 1\n3 3\n4 2\n",
       "text": [
        "0 5\n",
        "1 4\n",
        "2 1\n",
        "3 3\n",
        "4 2\n"
       ]
      }
     ],
     "prompt_number": 20
    },
    {
     "cell_type": "code",
     "collapsed": false,
     "input": [
      "# list comprehension\n",
      "s4b = [x**2 for x in s4]\n",
      "s4b"
     ],
     "language": "python",
     "metadata": {},
     "outputs": [
      {
       "metadata": {},
       "output_type": "pyout",
       "text": [
        "[25, 16, 1, 9, 4]"
       ]
      }
     ],
     "prompt_number": 21
    },
    {
     "cell_type": "markdown",
     "metadata": {},
     "source": [
      "#### Dict-like behaviour"
     ]
    },
    {
     "cell_type": "code",
     "collapsed": false,
     "input": [
      "# is the key in the series\n",
      "'four' in s4"
     ],
     "language": "python",
     "metadata": {},
     "outputs": [
      {
       "metadata": {},
       "output_type": "pyout",
       "text": [
        "True"
       ]
      }
     ],
     "prompt_number": 22
    },
    {
     "cell_type": "code",
     "collapsed": false,
     "input": [
      "# custom index retrieval\n",
      "s4['four']"
     ],
     "language": "python",
     "metadata": {},
     "outputs": [
      {
       "metadata": {},
       "output_type": "pyout",
       "text": [
        "4"
       ]
      }
     ],
     "prompt_number": 23
    },
    {
     "cell_type": "code",
     "collapsed": false,
     "input": [
      "# custom index assignament\n",
      "s4['three'] = 33\n",
      "s4['three']"
     ],
     "language": "python",
     "metadata": {},
     "outputs": [
      {
       "metadata": {},
       "output_type": "pyout",
       "prompt_number": 32,
       "text": [
        "33"
       ]
      }
     ]
    }
   ],
   "metadata": {}
  }
 ]
}