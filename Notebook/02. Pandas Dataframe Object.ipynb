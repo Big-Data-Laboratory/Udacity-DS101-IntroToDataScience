{
 "worksheets": [
  {
   "cells": [
    {
     "cell_type": "markdown",
     "metadata": {},
     "source": [
      "# Python Pandas Cookbook\n",
      "An exploration of using Python Pandas for data analysis, based on the excellent series of Alfred Essa."
     ]
    },
    {
     "cell_type": "markdown",
     "metadata": {},
     "source": [
      "## The DataFrame object\n",
      "Two-dimensional size-mutable, potentially heterogeneous tabular data structure with labeled axes (rows and columns). Arithmetic operations align on both row and column labels. Can be thought of as a dict-like container for Series objects. The primary pandas data structure.\n",
      "\n",
      "A Pandas DataFrame is a two-dimensional array with both row and column indices. The indices can also act as labels.\n",
      "\n",
      "http://pandas.pydata.org/pandas-docs/dev/generated/pandas.DataFrame.html"
     ]
    },
    {
     "cell_type": "markdown",
     "metadata": {},
     "source": [
      "### Setup"
     ]
    },
    {
     "cell_type": "code",
     "metadata": {},
     "outputs": [],
     "input": [
      "import pandas as pd\n",
      "import numpy as np\n",
      "import datetime"
     ],
     "language": "python",
     "prompt_number": 1
    },
    {
     "cell_type": "markdown",
     "metadata": {},
     "source": [
      "### Simple DataFrame creation"
     ]
    },
    {
     "cell_type": "code",
     "metadata": {},
     "outputs": [
      {
       "output_type": "pyout",
       "html": [
        "<div style=\"max-height:1000px;max-width:1500px;overflow:auto;\">\n",
        "<table border=\"1\" class=\"dataframe\">\n",
        "  <thead>\n",
        "    <tr style=\"text-align: right;\">\n",
        "      <th></th>\n",
        "      <th>Col 1</th>\n",
        "      <th>Col 2</th>\n",
        "    </tr>\n",
        "  </thead>\n",
        "  <tbody>\n",
        "    <tr>\n",
        "      <th>0</th>\n",
        "      <td> 1</td>\n",
        "      <td> 12</td>\n",
        "    </tr>\n",
        "    <tr>\n",
        "      <th>1</th>\n",
        "      <td> 2</td>\n",
        "      <td> 13</td>\n",
        "    </tr>\n",
        "    <tr>\n",
        "      <th>2</th>\n",
        "      <td> 3</td>\n",
        "      <td> 14</td>\n",
        "    </tr>\n",
        "    <tr>\n",
        "      <th>3</th>\n",
        "      <td> 4</td>\n",
        "      <td> 15</td>\n",
        "    </tr>\n",
        "    <tr>\n",
        "      <th>4</th>\n",
        "      <td> 5</td>\n",
        "      <td> 16</td>\n",
        "    </tr>\n",
        "  </tbody>\n",
        "</table>\n",
        "</div>"
       ],
       "text": [
        "   Col 1  Col 2\n",
        "0      1     12\n",
        "1      2     13\n",
        "2      3     14\n",
        "3      4     15\n",
        "4      5     16"
       ],
       "metadata": {}
      }
     ],
     "input": [
      "s1 = pd.Series([1, 2, 3, 4, 5])\n",
      "s2 = pd.Series([12, 13, 14, 15, 16])\n",
      "df1 = pd.DataFrame({'Col 1': s1, 'Col 2': s2})\n",
      "df1"
     ],
     "language": "python",
     "prompt_number": 2
    },
    {
     "cell_type": "code",
     "metadata": {},
     "outputs": [
      {
       "output_type": "pyout",
       "prompt_number": 3,
       "text": [
        "['12-01', '12-02', '12-03', '12-04', '12-05', '12-06', '12-07']"
       ],
       "metadata": {}
      }
     ],
     "input": [
      "# Create a list with dates from 01-12-2014 to 07-12-2014.\n",
      "start_date = datetime.datetime(2014, 12, 1)\n",
      "end_date = datetime.datetime(2014, 12, 7)\n",
      "step = datetime.timedelta(days=1)\n",
      "dates = []\n",
      "\n",
      "# Populate the list.\n",
      "while start_date <= end_date:\n",
      "    dates.append(start_date.strftime('%m-%d'))\n",
      "    start_date += step\n",
      "    \n",
      "dates"
     ],
     "language": "python",
     "prompt_number": 3
    },
    {
     "cell_type": "code",
     "metadata": {},
     "outputs": [],
     "input": [
      "# Create a data dictionary.\n",
      "datadict = {'Date': dates, \n",
      "            'Tokyo': [15, 19, 15, 11, 9, 8, 13], \n",
      "            'Mumbai': [4, 23, 17, 12, 19, 5, 19], \n",
      "            'Berlin': [6, 21, 12, 10, 17, 15, 14]}"
     ],
     "language": "python",
     "prompt_number": 4
    },
    {
     "cell_type": "code",
     "metadata": {},
     "outputs": [
      {
       "output_type": "pyout",
       "html": [
        "<div style=\"max-height:1000px;max-width:1500px;overflow:auto;\">\n",
        "<table border=\"1\" class=\"dataframe\">\n",
        "  <thead>\n",
        "    <tr style=\"text-align: right;\">\n",
        "      <th></th>\n",
        "      <th>Berlin</th>\n",
        "      <th>Date</th>\n",
        "      <th>Mumbai</th>\n",
        "      <th>Tokyo</th>\n",
        "    </tr>\n",
        "  </thead>\n",
        "  <tbody>\n",
        "    <tr>\n",
        "      <th>0</th>\n",
        "      <td>  6</td>\n",
        "      <td> 12-01</td>\n",
        "      <td>  4</td>\n",
        "      <td> 15</td>\n",
        "    </tr>\n",
        "    <tr>\n",
        "      <th>1</th>\n",
        "      <td> 21</td>\n",
        "      <td> 12-02</td>\n",
        "      <td> 23</td>\n",
        "      <td> 19</td>\n",
        "    </tr>\n",
        "    <tr>\n",
        "      <th>2</th>\n",
        "      <td> 12</td>\n",
        "      <td> 12-03</td>\n",
        "      <td> 17</td>\n",
        "      <td> 15</td>\n",
        "    </tr>\n",
        "    <tr>\n",
        "      <th>3</th>\n",
        "      <td> 10</td>\n",
        "      <td> 12-04</td>\n",
        "      <td> 12</td>\n",
        "      <td> 11</td>\n",
        "    </tr>\n",
        "    <tr>\n",
        "      <th>4</th>\n",
        "      <td> 17</td>\n",
        "      <td> 12-05</td>\n",
        "      <td> 19</td>\n",
        "      <td>  9</td>\n",
        "    </tr>\n",
        "    <tr>\n",
        "      <th>5</th>\n",
        "      <td> 15</td>\n",
        "      <td> 12-06</td>\n",
        "      <td>  5</td>\n",
        "      <td>  8</td>\n",
        "    </tr>\n",
        "    <tr>\n",
        "      <th>6</th>\n",
        "      <td> 14</td>\n",
        "      <td> 12-07</td>\n",
        "      <td> 19</td>\n",
        "      <td> 13</td>\n",
        "    </tr>\n",
        "  </tbody>\n",
        "</table>\n",
        "</div>"
       ],
       "text": [
        "   Berlin   Date  Mumbai  Tokyo\n",
        "0       6  12-01       4     15\n",
        "1      21  12-02      23     19\n",
        "2      12  12-03      17     15\n",
        "3      10  12-04      12     11\n",
        "4      17  12-05      19      9\n",
        "5      15  12-06       5      8\n",
        "6      14  12-07      19     13"
       ],
       "metadata": {}
      }
     ],
     "input": [
      "# Use dictionary to populate the dataframe.\n",
      "df2 = pd.DataFrame(datadict)\n",
      "df2"
     ],
     "language": "python",
     "prompt_number": 5
    },
    {
     "cell_type": "code",
     "metadata": {},
     "outputs": [
      {
       "output_type": "pyout",
       "prompt_number": 6,
       "text": [
        "0     6\n",
        "1    21\n",
        "2    12\n",
        "3    10\n",
        "4    17\n",
        "5    15\n",
        "6    14\n",
        "Name: Berlin, dtype: int64"
       ],
       "metadata": {}
      }
     ],
     "input": [
      "# Retrieve a single series (column).\n",
      "df2.Berlin"
     ],
     "language": "python",
     "prompt_number": 6
    },
    {
     "cell_type": "code",
     "metadata": {},
     "outputs": [
      {
       "output_type": "pyout",
       "prompt_number": 7,
       "text": [
        "0     6\n",
        "1    21\n",
        "2    12\n",
        "3    10\n",
        "4    17\n",
        "5    15\n",
        "6    14\n",
        "Name: Berlin, dtype: int64"
       ],
       "metadata": {}
      }
     ],
     "input": [
      "# Another way to get to the Berlin series.\n",
      "df2['Berlin']"
     ],
     "language": "python",
     "prompt_number": 7
    },
    {
     "cell_type": "markdown",
     "metadata": {},
     "source": [
      "### Indexing"
     ]
    },
    {
     "cell_type": "code",
     "metadata": {},
     "outputs": [
      {
       "output_type": "pyout",
       "html": [
        "<div style=\"max-height:1000px;max-width:1500px;overflow:auto;\">\n",
        "<table border=\"1\" class=\"dataframe\">\n",
        "  <thead>\n",
        "    <tr style=\"text-align: right;\">\n",
        "      <th></th>\n",
        "      <th>Berlin</th>\n",
        "      <th>Mumbai</th>\n",
        "      <th>Tokyo</th>\n",
        "    </tr>\n",
        "    <tr>\n",
        "      <th>Date</th>\n",
        "      <th></th>\n",
        "      <th></th>\n",
        "      <th></th>\n",
        "    </tr>\n",
        "  </thead>\n",
        "  <tbody>\n",
        "    <tr>\n",
        "      <th>12-01</th>\n",
        "      <td>  6</td>\n",
        "      <td>  4</td>\n",
        "      <td> 15</td>\n",
        "    </tr>\n",
        "    <tr>\n",
        "      <th>12-02</th>\n",
        "      <td> 21</td>\n",
        "      <td> 23</td>\n",
        "      <td> 19</td>\n",
        "    </tr>\n",
        "    <tr>\n",
        "      <th>12-03</th>\n",
        "      <td> 12</td>\n",
        "      <td> 17</td>\n",
        "      <td> 15</td>\n",
        "    </tr>\n",
        "    <tr>\n",
        "      <th>12-04</th>\n",
        "      <td> 10</td>\n",
        "      <td> 12</td>\n",
        "      <td> 11</td>\n",
        "    </tr>\n",
        "    <tr>\n",
        "      <th>12-05</th>\n",
        "      <td> 17</td>\n",
        "      <td> 19</td>\n",
        "      <td>  9</td>\n",
        "    </tr>\n",
        "    <tr>\n",
        "      <th>12-06</th>\n",
        "      <td> 15</td>\n",
        "      <td>  5</td>\n",
        "      <td>  8</td>\n",
        "    </tr>\n",
        "    <tr>\n",
        "      <th>12-07</th>\n",
        "      <td> 14</td>\n",
        "      <td> 19</td>\n",
        "      <td> 13</td>\n",
        "    </tr>\n",
        "  </tbody>\n",
        "</table>\n",
        "</div>"
       ],
       "text": [
        "       Berlin  Mumbai  Tokyo\n",
        "Date                        \n",
        "12-01       6       4     15\n",
        "12-02      21      23     19\n",
        "12-03      12      17     15\n",
        "12-04      10      12     11\n",
        "12-05      17      19      9\n",
        "12-06      15       5      8\n",
        "12-07      14      19     13"
       ],
       "metadata": {}
      }
     ],
     "input": [
      "# Change the index to the Date column.\n",
      "df2 = df2.set_index('Date')\n",
      "df2"
     ],
     "language": "python",
     "prompt_number": 8
    },
    {
     "cell_type": "markdown",
     "metadata": {},
     "source": [
      "### Import a csv"
     ]
    },
    {
     "cell_type": "code",
     "metadata": {},
     "outputs": [
      {
       "output_type": "pyout",
       "html": [
        "<div style=\"max-height:1000px;max-width:1500px;overflow:auto;\">\n",
        "<table border=\"1\" class=\"dataframe\">\n",
        "  <thead>\n",
        "    <tr style=\"text-align: right;\">\n",
        "      <th></th>\n",
        "      <th>PassengerId</th>\n",
        "      <th>Survived</th>\n",
        "      <th>Pclass</th>\n",
        "      <th>Name</th>\n",
        "      <th>Sex</th>\n",
        "      <th>Age</th>\n",
        "      <th>SibSp</th>\n",
        "      <th>Parch</th>\n",
        "      <th>Ticket</th>\n",
        "      <th>Fare</th>\n",
        "      <th>Cabin</th>\n",
        "      <th>Embarked</th>\n",
        "    </tr>\n",
        "  </thead>\n",
        "  <tbody>\n",
        "    <tr>\n",
        "      <th>886</th>\n",
        "      <td> 887</td>\n",
        "      <td> 0</td>\n",
        "      <td> 2</td>\n",
        "      <td>                    Montvila, Rev. Juozas</td>\n",
        "      <td>   male</td>\n",
        "      <td> 27</td>\n",
        "      <td> 0</td>\n",
        "      <td> 0</td>\n",
        "      <td>     211536</td>\n",
        "      <td> 13.00</td>\n",
        "      <td>  NaN</td>\n",
        "      <td> S</td>\n",
        "    </tr>\n",
        "    <tr>\n",
        "      <th>887</th>\n",
        "      <td> 888</td>\n",
        "      <td> 1</td>\n",
        "      <td> 1</td>\n",
        "      <td>             Graham, Miss. Margaret Edith</td>\n",
        "      <td> female</td>\n",
        "      <td> 19</td>\n",
        "      <td> 0</td>\n",
        "      <td> 0</td>\n",
        "      <td>     112053</td>\n",
        "      <td> 30.00</td>\n",
        "      <td>  B42</td>\n",
        "      <td> S</td>\n",
        "    </tr>\n",
        "    <tr>\n",
        "      <th>888</th>\n",
        "      <td> 889</td>\n",
        "      <td> 0</td>\n",
        "      <td> 3</td>\n",
        "      <td> Johnston, Miss. Catherine Helen \"Carrie\"</td>\n",
        "      <td> female</td>\n",
        "      <td>NaN</td>\n",
        "      <td> 1</td>\n",
        "      <td> 2</td>\n",
        "      <td> W./C. 6607</td>\n",
        "      <td> 23.45</td>\n",
        "      <td>  NaN</td>\n",
        "      <td> S</td>\n",
        "    </tr>\n",
        "    <tr>\n",
        "      <th>889</th>\n",
        "      <td> 890</td>\n",
        "      <td> 1</td>\n",
        "      <td> 1</td>\n",
        "      <td>                    Behr, Mr. Karl Howell</td>\n",
        "      <td>   male</td>\n",
        "      <td> 26</td>\n",
        "      <td> 0</td>\n",
        "      <td> 0</td>\n",
        "      <td>     111369</td>\n",
        "      <td> 30.00</td>\n",
        "      <td> C148</td>\n",
        "      <td> C</td>\n",
        "    </tr>\n",
        "    <tr>\n",
        "      <th>890</th>\n",
        "      <td> 891</td>\n",
        "      <td> 0</td>\n",
        "      <td> 3</td>\n",
        "      <td>                      Dooley, Mr. Patrick</td>\n",
        "      <td>   male</td>\n",
        "      <td> 32</td>\n",
        "      <td> 0</td>\n",
        "      <td> 0</td>\n",
        "      <td>     370376</td>\n",
        "      <td>  7.75</td>\n",
        "      <td>  NaN</td>\n",
        "      <td> Q</td>\n",
        "    </tr>\n",
        "  </tbody>\n",
        "</table>\n",
        "</div>"
       ],
       "text": [
        "     PassengerId  Survived  Pclass                                      Name  \\\n",
        "886          887         0       2                     Montvila, Rev. Juozas   \n",
        "887          888         1       1              Graham, Miss. Margaret Edith   \n",
        "888          889         0       3  Johnston, Miss. Catherine Helen \"Carrie\"   \n",
        "889          890         1       1                     Behr, Mr. Karl Howell   \n",
        "890          891         0       3                       Dooley, Mr. Patrick   \n",
        "\n",
        "        Sex  Age  SibSp  Parch      Ticket   Fare Cabin Embarked  \n",
        "886    male   27      0      0      211536  13.00   NaN        S  \n",
        "887  female   19      0      0      112053  30.00   B42        S  \n",
        "888  female  NaN      1      2  W./C. 6607  23.45   NaN        S  \n",
        "889    male   26      0      0      111369  30.00  C148        C  \n",
        "890    male   32      0      0      370376   7.75   NaN        Q  "
       ],
       "metadata": {}
      }
     ],
     "input": [
      "df3 = pd.read_csv('data/titanic_data.csv')\n",
      "df3.tail()"
     ],
     "language": "python",
     "prompt_number": 16
    },
    {
     "cell_type": "markdown",
     "metadata": {},
     "source": [
      "### Exploratory operations"
     ]
    },
    {
     "cell_type": "code",
     "metadata": {},
     "outputs": [
      {
       "output_type": "pyout",
       "prompt_number": 25,
       "text": [
        "male      577\n",
        "female    314\n",
        "dtype: int64"
       ],
       "metadata": {}
      }
     ],
     "input": [
      "# Get the unique values for a column + frequencies\n",
      "df3.Sex.value_counts()"
     ],
     "language": "python",
     "prompt_number": 25
    },
    {
     "cell_type": "code",
     "metadata": {},
     "outputs": [
      {
       "output_type": "pyout",
       "prompt_number": 27,
       "text": [
        "28.0"
       ],
       "metadata": {}
      }
     ],
     "input": [
      "# Query the median age\n",
      "df3.Age.median()"
     ],
     "language": "python",
     "prompt_number": 27
    }
   ]
  }
 ],
 "cells": [],
 "metadata": {
  "name": "",
  "signature": "sha256:271faae42227f02d73c147f8d76527d7ea09243411be28cfede91c86cbfbedea"
 },
 "nbformat": 3,
 "nbformat_minor": 0
}